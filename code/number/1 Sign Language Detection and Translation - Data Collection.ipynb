{
 "cells": [
  {
   "cell_type": "markdown",
   "id": "2f6cfcdf",
   "metadata": {},
   "source": [
    "# A. Data Collection"
   ]
  },
  {
   "cell_type": "markdown",
   "id": "3fb8a7cb",
   "metadata": {},
   "source": [
    "1. Import libraries/modules"
   ]
  },
  {
   "cell_type": "code",
   "execution_count": 1,
   "id": "9d5a2c66",
   "metadata": {},
   "outputs": [],
   "source": [
    "#serial module for serial communication with arduino mega connected to the computer's serial ports\n",
    "import serial\n",
    "\n",
    "#time module for various time-related functions eg: adding delays or timestamping \n",
    "import time\n",
    "\n",
    "#pandas library for data manipulation and analysis\n",
    "import pandas as pd"
   ]
  },
  {
   "cell_type": "markdown",
   "id": "d395c2d8",
   "metadata": {},
   "source": [
    "2. Set up the initial configuration and data structures for collecting and processing sensor data"
   ]
  },
  {
   "cell_type": "code",
   "execution_count": 2,
   "id": "aaf341a6",
   "metadata": {},
   "outputs": [],
   "source": [
    "# serial port to which arduino mega is connected and can be determined by command \"ls /dev/tty.*\" in terminal\n",
    "serial_port = '/dev/tty.usbmodem101'\n",
    "\n",
    "#speed at which data is transferred over the serial connection\n",
    "baud_rate = 9600\n",
    "\n",
    "#establish the connection to the specified serial port\n",
    "ser = serial.Serial(serial_port, baud_rate)\n",
    "\n",
    "#to store data received from the connected glove\n",
    "sensor_data = []\n",
    "\n",
    "#to store gesture indices\n",
    "gestures = []\n",
    "\n",
    "#number of samples to be collected for each gesture\n",
    "num_samples = 100\n",
    "\n",
    "#dictionary to map gestures from 0 to 9 to respective strings\n",
    "class_mapping = {\n",
    "    0: \"Gesture for Number 0\",\n",
    "    1: \"Gesture for Number 1\",\n",
    "    2: \"Gesture for Number 2\",\n",
    "    3: \"Gesture for Number 3\",\n",
    "    4: \"Gesture for Number 4\",\n",
    "    5: \"Gesture for Number 5\",\n",
    "    6: \"Gesture for Number 6\",\n",
    "    7: \"Gesture for Number 7\",\n",
    "    8: \"Gesture for Number 8\",\n",
    "    9: \"Gesture for Number 9\"\n",
    "}\n"
   ]
  },
  {
   "cell_type": "markdown",
   "id": "22441dd0",
   "metadata": {},
   "source": [
    "3. Extracting each gestures separately for numbers from 0 to 9"
   ]
  },
  {
   "cell_type": "code",
   "execution_count": 3,
   "id": "3ec80231",
   "metadata": {},
   "outputs": [
    {
     "name": "stdout",
     "output_type": "stream",
     "text": [
      "Gesture collection for Gesture for Number 0\n",
      "Collecting sample 1\n"
     ]
    }
   ],
   "source": [
    "gesture = 0  # Extract the gesture 0\n",
    "print(\"Gesture collection for \" + str(class_mapping[gesture]))\n",
    "cnt = 0\n",
    "for _ in range(num_samples):\n",
    "    cnt = cnt + 1\n",
    "    print(\"Collecting sample \" + str(cnt))\n",
    "    data = ser.readline().decode().strip().split(',')  # Reads a line from the serial port and split by comma\n",
    "    sensor_reading = data[:12]  # Extracts the flex sensor and 3-axis gryoscope accelerometer readings\n",
    "\n",
    "    sensor_data.append(sensor_reading)\n",
    "    gestures.append(gesture)\n",
    "    time.sleep(1)"
   ]
  },
  {
   "cell_type": "code",
   "execution_count": 4,
   "id": "b4698c7f",
   "metadata": {},
   "outputs": [
    {
     "name": "stdout",
     "output_type": "stream",
     "text": [
      "Gesture collection for Gesture for Number 1\n",
      "Collecting sample 1\n"
     ]
    }
   ],
   "source": [
    "gesture = 1  # Extract the gesture 1\n",
    "print(\"Gesture collection for \" + str(class_mapping[gesture]))\n",
    "cnt = 0\n",
    "for _ in range(num_samples):\n",
    "    cnt = cnt + 1\n",
    "    print(\"Collecting sample \" + str(cnt))\n",
    "    data = ser.readline().decode().strip().split(',')\n",
    "    sensor_reading = data[:12]\n",
    "\n",
    "    sensor_data.append(sensor_reading)\n",
    "    gestures.append(gesture)\n",
    "    time.sleep(1)"
   ]
  },
  {
   "cell_type": "code",
   "execution_count": 5,
   "id": "4dd006ef",
   "metadata": {},
   "outputs": [
    {
     "name": "stdout",
     "output_type": "stream",
     "text": [
      "Gesture collection for Gesture for Number 2\n",
      "Collecting sample 1\n"
     ]
    }
   ],
   "source": [
    "gesture = 2  # Extract the gesture 2\n",
    "print(\"Gesture collection for \" + str(class_mapping[gesture]))\n",
    "cnt = 0\n",
    "for _ in range(num_samples):\n",
    "    cnt = cnt + 1\n",
    "    print(\"Collecting sample \" + str(cnt))\n",
    "    data = ser.readline().decode().strip().split(',')\n",
    "    sensor_reading = data[:12]\n",
    "\n",
    "    sensor_data.append(sensor_reading)\n",
    "    gestures.append(gesture)\n",
    "    time.sleep(1)"
   ]
  },
  {
   "cell_type": "code",
   "execution_count": 6,
   "id": "ad443f67",
   "metadata": {},
   "outputs": [
    {
     "name": "stdout",
     "output_type": "stream",
     "text": [
      "Gesture collection for Gesture for Number 3\n",
      "Collecting sample 1\n"
     ]
    }
   ],
   "source": [
    "gesture = 3  # Extract the gesture 3\n",
    "print(\"Gesture collection for \" + str(class_mapping[gesture]))\n",
    "cnt = 0\n",
    "for _ in range(num_samples):\n",
    "    cnt = cnt + 1\n",
    "    print(\"Collecting sample \" + str(cnt))\n",
    "    data = ser.readline().decode().strip().split(',')\n",
    "    sensor_reading = data[:12]\n",
    "\n",
    "    sensor_data.append(sensor_reading)\n",
    "    gestures.append(gesture)\n",
    "    time.sleep(1)"
   ]
  },
  {
   "cell_type": "code",
   "execution_count": 7,
   "id": "13560d48",
   "metadata": {},
   "outputs": [
    {
     "name": "stdout",
     "output_type": "stream",
     "text": [
      "Gesture collection for Gesture for Number 4\n",
      "Collecting sample 1\n"
     ]
    }
   ],
   "source": [
    "gesture = 4  # Extract the gesture 4\n",
    "print(\"Gesture collection for \" + str(class_mapping[gesture]))\n",
    "cnt = 0\n",
    "for _ in range(num_samples):\n",
    "    cnt = cnt + 1\n",
    "    print(\"Collecting sample \" + str(cnt))\n",
    "    data = ser.readline().decode().strip().split(',')\n",
    "    sensor_reading = data[:12]\n",
    "\n",
    "    sensor_data.append(sensor_reading)\n",
    "    gestures.append(gesture)\n",
    "    time.sleep(1)"
   ]
  },
  {
   "cell_type": "code",
   "execution_count": 8,
   "id": "0f1d04f1",
   "metadata": {},
   "outputs": [
    {
     "name": "stdout",
     "output_type": "stream",
     "text": [
      "Gesture collection for Gesture for Number 5\n",
      "Collecting sample 1\n"
     ]
    }
   ],
   "source": [
    "gesture = 5  # Extract the gesture 5\n",
    "print(\"Gesture collection for \" + str(class_mapping[gesture]))\n",
    "cnt = 0\n",
    "for _ in range(num_samples):\n",
    "    cnt = cnt + 1\n",
    "    print(\"Collecting sample \" + str(cnt))\n",
    "    data = ser.readline().decode().strip().split(',')\n",
    "    sensor_reading = data[:12]\n",
    "\n",
    "    sensor_data.append(sensor_reading)\n",
    "    gestures.append(gesture)\n",
    "    time.sleep(1)"
   ]
  },
  {
   "cell_type": "code",
   "execution_count": 9,
   "id": "8771cb2d",
   "metadata": {},
   "outputs": [
    {
     "name": "stdout",
     "output_type": "stream",
     "text": [
      "Gesture collection for Gesture for Number 6\n",
      "Collecting sample 1\n"
     ]
    }
   ],
   "source": [
    "gesture = 6  # Extract the gesture 6\n",
    "print(\"Gesture collection for \" + str(class_mapping[gesture]))\n",
    "cnt = 0\n",
    "for _ in range(num_samples):\n",
    "    cnt = cnt + 1\n",
    "    print(\"Collecting sample \" + str(cnt))\n",
    "    data = ser.readline().decode().strip().split(',')\n",
    "    sensor_reading = data[:12]\n",
    "\n",
    "    sensor_data.append(sensor_reading)\n",
    "    gestures.append(gesture)\n",
    "    time.sleep(1)"
   ]
  },
  {
   "cell_type": "code",
   "execution_count": 10,
   "id": "2bb5adef",
   "metadata": {},
   "outputs": [
    {
     "name": "stdout",
     "output_type": "stream",
     "text": [
      "Gesture collection for Gesture for Number 7\n",
      "Collecting sample 1\n"
     ]
    }
   ],
   "source": [
    "gesture = 7  # Extract the gesture 7\n",
    "print(\"Gesture collection for \" + str(class_mapping[gesture]))\n",
    "cnt = 0\n",
    "for _ in range(num_samples):\n",
    "    cnt = cnt + 1\n",
    "    print(\"Collecting sample \" + str(cnt))\n",
    "    data = ser.readline().decode().strip().split(',')\n",
    "    sensor_reading = data[:12]\n",
    "\n",
    "    sensor_data.append(sensor_reading)\n",
    "    gestures.append(gesture)\n",
    "    time.sleep(1)"
   ]
  },
  {
   "cell_type": "code",
   "execution_count": 11,
   "id": "0b976da8",
   "metadata": {},
   "outputs": [
    {
     "name": "stdout",
     "output_type": "stream",
     "text": [
      "Gesture collection for Gesture for Number 8\n",
      "Collecting sample 1\n"
     ]
    }
   ],
   "source": [
    "gesture = 8  # Extract the gesture 8\n",
    "print(\"Gesture collection for \" + str(class_mapping[gesture]))\n",
    "cnt = 0\n",
    "for _ in range(num_samples):\n",
    "    cnt = cnt + 1\n",
    "    print(\"Collecting sample \" + str(cnt))\n",
    "    data = ser.readline().decode().strip().split(',')\n",
    "    sensor_reading = data[:12]\n",
    "\n",
    "    sensor_data.append(sensor_reading)\n",
    "    gestures.append(gesture)\n",
    "    time.sleep(1)"
   ]
  },
  {
   "cell_type": "code",
   "execution_count": 12,
   "id": "b59f29ff",
   "metadata": {},
   "outputs": [
    {
     "name": "stdout",
     "output_type": "stream",
     "text": [
      "Gesture collection for Gesture for Number 9\n",
      "Collecting sample 1\n"
     ]
    }
   ],
   "source": [
    "\n",
    "gesture = 9  # Extract the gesture 9\n",
    "print(\"Gesture collection for \" + str(class_mapping[gesture]))\n",
    "cnt = 0\n",
    "for _ in range(num_samples):\n",
    "    cnt = cnt + 1\n",
    "    print(\"Collecting sample \" + str(cnt))\n",
    "    data = ser.readline().decode().strip().split(',')\n",
    "    sensor_reading = data[:12]\n",
    "\n",
    "    sensor_data.append(sensor_reading)\n",
    "    gestures.append(gesture)\n",
    "    time.sleep(1)"
   ]
  },
  {
   "cell_type": "markdown",
   "id": "6a0c571e",
   "metadata": {},
   "source": [
    "4. Creating dataset"
   ]
  },
  {
   "cell_type": "code",
   "execution_count": 13,
   "id": "956b6cb7",
   "metadata": {},
   "outputs": [],
   "source": [
    "# close the connection\n",
    "ser.close()\n",
    "df = pd.DataFrame(sensor_data, columns=['Thumb', 'IndexFinger', 'MiddleFinger', 'RingFinger', 'LittleFinger','accelerometer_x','accelerometer_y','accelerometer_z','temperature','gyro_x','gyro_y','gyro_z'])\n",
    "df['Gesture'] = gestures"
   ]
  },
  {
   "cell_type": "markdown",
   "id": "bd3810bd",
   "metadata": {},
   "source": [
    "5. Creating and saving the csv file"
   ]
  },
  {
   "cell_type": "code",
   "execution_count": 14,
   "id": "acc2ea4e",
   "metadata": {},
   "outputs": [],
   "source": [
    "df.to_csv('/Users/sunilamaharjan/Desktop/London Metropolitan University/Summer Semester/mscProject/codes/Dataset/Number/sensor_data_collection.csv', index=False)\n"
   ]
  }
 ],
 "metadata": {
  "kernelspec": {
   "display_name": "Python 3 (ipykernel)",
   "language": "python",
   "name": "python3"
  },
  "language_info": {
   "codemirror_mode": {
    "name": "ipython",
    "version": 3
   },
   "file_extension": ".py",
   "mimetype": "text/x-python",
   "name": "python",
   "nbconvert_exporter": "python",
   "pygments_lexer": "ipython3",
   "version": "3.10.13"
  }
 },
 "nbformat": 4,
 "nbformat_minor": 5
}
